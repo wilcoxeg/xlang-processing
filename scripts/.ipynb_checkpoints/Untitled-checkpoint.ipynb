{
 "cells": [
  {
   "cell_type": "code",
   "execution_count": 1,
   "id": "f3934f46",
   "metadata": {},
   "outputs": [],
   "source": [
    "import torch\n",
    "import pandas as pd\n",
    "import numpy as np\n",
    "from wordfreq import word_frequency\n",
    "from string import punctuation\n",
    "\n",
    "from transformers import GPT2LMHeadModel, GPT2TokenizerFast"
   ]
  },
  {
   "cell_type": "code",
   "execution_count": 2,
   "id": "c5fb2692",
   "metadata": {},
   "outputs": [],
   "source": [
    "MODEL_NAME = {\"gpt2\":\"gpt2\"}\n",
    "\n",
    "def get_predictions(sentence, model):\n",
    "\tmodel_name = MODEL_NAME[model]\n",
    "\tmodel = GPT2LMHeadModel.from_pretrained(model_name)\n",
    "\ttokenizer = GPT2TokenizerFast.from_pretrained(model_name)\n",
    "\n",
    "\tsent_tokens = tokenizer.tokenize(sentence, add_special_tokens=True)\n",
    "\tindexed_tokens = tokenizer.convert_tokens_to_ids(sent_tokens)\n",
    "\n",
    "\ttokens_tensor = torch.tensor(indexed_tokens).unsqueeze(0)\n",
    "\n",
    "\twith torch.no_grad():\n",
    "\t\tprobs = model(tokens_tensor)[0].softmax(dim=2).squeeze()\n",
    "\n",
    "\treturn list(zip(sent_tokens, indexed_tokens, (None,) + probs.unbind()))"
   ]
  },
  {
   "cell_type": "code",
   "execution_count": 3,
   "id": "6ef8d961",
   "metadata": {},
   "outputs": [],
   "source": [
    "def get_surprisals(predictions):\n",
    "\tresult = []\n",
    "\tfor j, (word, word_idx, preds) in enumerate(predictions):\n",
    "\t\tif preds is None:\n",
    "\t\t\tsurprisal = 0.0\n",
    "\t\telse:\n",
    "\t\t\tsurprisal = - np.log(preds[word_idx].item() / np.log(2))\n",
    "\t\tresult.append( (j+1, word, surprisal) )\n",
    "\treturn result"
   ]
  },
  {
   "cell_type": "code",
   "execution_count": 66,
   "id": "f8ce236f",
   "metadata": {},
   "outputs": [],
   "source": [
    "def get_entropies(predictions):\n",
    "    result = []\n",
    "    for j, (word, word_idx, preds) in enumerate(predictions):\n",
    "        if preds is None:\n",
    "            entropy = 0.0\n",
    "        else:\n",
    "            surprisals = -1 * np.log(preds) / np.log(2)\n",
    "            probs = preds\n",
    "            entropy = (probs * surprisals).sum(-1)\n",
    "        result.append((j, word, entropy))\n",
    "    return result"
   ]
  },
  {
   "cell_type": "code",
   "execution_count": 38,
   "id": "b0741701",
   "metadata": {},
   "outputs": [],
   "source": [
    "predictions = get_predictions(\"I went to San Francisco and saw the golden gate pizza\", \"gpt2\")"
   ]
  },
  {
   "cell_type": "code",
   "execution_count": null,
   "id": "34ec8bac",
   "metadata": {},
   "outputs": [],
   "source": []
  },
  {
   "cell_type": "code",
   "execution_count": 67,
   "id": "7781b7f6",
   "metadata": {},
   "outputs": [
    {
     "name": "stdout",
     "output_type": "stream",
     "text": [
      "[(1, 'I', 0.0), (2, 'Ġwent', 6.655623408750759), (3, 'Ġto', 0.5739821277583708), (4, 'ĠSan', 6.502838898518721), (5, 'ĠFrancisco', 0.5309294051813819), (6, 'Ġand', 1.8128097141296469), (7, 'Ġsaw', 2.681927388243818), (8, 'Ġthe', 1.4548104602111378), (9, 'Ġgolden', 7.920232738339079), (10, 'Ġgate', 5.872006630643133), (11, 'Ġpizza', 12.128894344681402)]\n"
     ]
    },
    {
     "ename": "AttributeError",
     "evalue": "'float' object has no attribute 'detach'",
     "output_type": "error",
     "traceback": [
      "\u001b[0;31m---------------------------------------------------------------------------\u001b[0m",
      "\u001b[0;31mAttributeError\u001b[0m                            Traceback (most recent call last)",
      "Input \u001b[0;32mIn [67]\u001b[0m, in \u001b[0;36m<cell line: 4>\u001b[0;34m()\u001b[0m\n\u001b[1;32m      1\u001b[0m surprisals \u001b[38;5;241m=\u001b[39m get_surprisals(predictions)\n\u001b[1;32m      2\u001b[0m \u001b[38;5;28mprint\u001b[39m(surprisals)\n\u001b[0;32m----> 4\u001b[0m entropies \u001b[38;5;241m=\u001b[39m \u001b[43mget_entropies\u001b[49m\u001b[43m(\u001b[49m\u001b[43mpredictions\u001b[49m\u001b[43m)\u001b[49m\n\u001b[1;32m      5\u001b[0m \u001b[38;5;28mprint\u001b[39m(entropies)\n",
      "Input \u001b[0;32mIn [66]\u001b[0m, in \u001b[0;36mget_entropies\u001b[0;34m(predictions)\u001b[0m\n\u001b[1;32m      8\u001b[0m         probs \u001b[38;5;241m=\u001b[39m preds\n\u001b[1;32m      9\u001b[0m         entropy \u001b[38;5;241m=\u001b[39m (probs \u001b[38;5;241m*\u001b[39m surprisals)\u001b[38;5;241m.\u001b[39msum(\u001b[38;5;241m-\u001b[39m\u001b[38;5;241m1\u001b[39m)\n\u001b[0;32m---> 10\u001b[0m     result\u001b[38;5;241m.\u001b[39mappend((j, word, \u001b[43mentropy\u001b[49m\u001b[38;5;241;43m.\u001b[39;49m\u001b[43mdetach\u001b[49m()))\n\u001b[1;32m     11\u001b[0m \u001b[38;5;28;01mreturn\u001b[39;00m result\n",
      "\u001b[0;31mAttributeError\u001b[0m: 'float' object has no attribute 'detach'"
     ]
    }
   ],
   "source": [
    "surprisals = get_surprisals(predictions)\n",
    "print(surprisals)\n",
    "\n",
    "entropies = get_entropies(predictions)\n",
    "print(entropies)"
   ]
  },
  {
   "cell_type": "code",
   "execution_count": 16,
   "id": "74c60748",
   "metadata": {},
   "outputs": [
    {
     "name": "stdout",
     "output_type": "stream",
     "text": [
      "tensor([ -6.5131,  -5.8791,  -9.7528,  ..., -14.6839, -12.4492,  -7.0846])\n"
     ]
    }
   ],
   "source": [
    "print(torch.log(predictions[1][2]))"
   ]
  },
  {
   "cell_type": "code",
   "execution_count": null,
   "id": "56982e24",
   "metadata": {},
   "outputs": [],
   "source": []
  }
 ],
 "metadata": {
  "kernelspec": {
   "display_name": "Python 3 (ipykernel)",
   "language": "python",
   "name": "python3"
  },
  "language_info": {
   "codemirror_mode": {
    "name": "ipython",
    "version": 3
   },
   "file_extension": ".py",
   "mimetype": "text/x-python",
   "name": "python",
   "nbconvert_exporter": "python",
   "pygments_lexer": "ipython3",
   "version": "3.9.10"
  }
 },
 "nbformat": 4,
 "nbformat_minor": 5
}
